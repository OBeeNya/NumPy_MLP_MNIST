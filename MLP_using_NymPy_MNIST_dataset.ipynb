{
  "nbformat": 4,
  "nbformat_minor": 0,
  "metadata": {
    "colab": {
      "name": "MLP using NymPy - MNIST dataset.ipynb",
      "provenance": [],
      "collapsed_sections": []
    },
    "kernelspec": {
      "name": "python3",
      "display_name": "Python 3"
    },
    "language_info": {
      "name": "python"
    }
  },
  "cells": [
    {
      "cell_type": "markdown",
      "source": [
        "# Python Project - MLP from scratch using NumPy - Application to MNIST dataset\n",
        "\n",
        "*by Benjamin Aubignat, on February 5th 2022*"
      ],
      "metadata": {
        "id": "GqtHMVfsRV32"
      }
    },
    {
      "cell_type": "markdown",
      "source": [
        "## Project objective\n",
        "\n",
        "The objective of this project will be to create a Multi-Layer Perceptron using only the NumPy library.\n",
        "\n",
        "Doing so will allow me to showcase both proficiency in basic Python programming and a good understanding of the artificial neural network.\n",
        "\n",
        "I will then use the created object to train a model on the famous MNIST dataset in order to test its efficiency.\n",
        "\n",
        "source : http://yann.lecun.com/exdb/mnist/"
      ],
      "metadata": {
        "id": "bP9usB5b9Vet"
      }
    },
    {
      "cell_type": "markdown",
      "source": [
        "## Data preparation"
      ],
      "metadata": {
        "id": "QR0J6cw-_Qwq"
      }
    },
    {
      "cell_type": "markdown",
      "source": [
        "Loading libraries and packages."
      ],
      "metadata": {
        "id": "mh4kEQigRmlz"
      }
    },
    {
      "cell_type": "code",
      "execution_count": 101,
      "metadata": {
        "id": "5_DHFf_sQeJG"
      },
      "outputs": [],
      "source": [
        "from torchvision import datasets\n",
        "import numpy as np\n",
        "import pandas as pd\n",
        "import math\n",
        "import matplotlib.pyplot as plt"
      ]
    },
    {
      "cell_type": "markdown",
      "source": [
        "Loading data."
      ],
      "metadata": {
        "id": "w55eT8SkRpgg"
      }
    },
    {
      "cell_type": "code",
      "source": [
        "train_set = datasets.MNIST('./data', train = True, download = True)\n",
        "test_set = datasets.MNIST('./data', train = False, download = True)"
      ],
      "metadata": {
        "id": "mnIuHBDnQkSx"
      },
      "execution_count": 102,
      "outputs": []
    },
    {
      "cell_type": "markdown",
      "source": [
        "Transforming both sets from torchvision.datasets objects to numpy arrays."
      ],
      "metadata": {
        "id": "YSuiD1sZRsH8"
      }
    },
    {
      "cell_type": "code",
      "source": [
        "train_x = train_set.data.numpy()\n",
        "test_x = test_set.data.numpy()\n",
        "train_y = train_set.targets.numpy()\n",
        "test_y = test_set.targets.numpy()"
      ],
      "metadata": {
        "id": "jZ99k9EOQo__"
      },
      "execution_count": 103,
      "outputs": []
    },
    {
      "cell_type": "markdown",
      "source": [
        "Every observation is in a matrix form, as to represent a written number in 2 dimensions."
      ],
      "metadata": {
        "id": "TumcHacRAUvU"
      }
    },
    {
      "cell_type": "code",
      "source": [
        "plt.imshow(train_x[0]);"
      ],
      "metadata": {
        "colab": {
          "base_uri": "https://localhost:8080/",
          "height": 265
        },
        "id": "jo36EdanAaRc",
        "outputId": "5f013c0d-d573-41b7-9775-7e0e779f2453"
      },
      "execution_count": 104,
      "outputs": [
        {
          "output_type": "display_data",
          "data": {
            "image/png": "[encoded data removed]",
            "text/plain": [
              "<Figure size 432x288 with 1 Axes>"
            ]
          },
          "metadata": {
            "needs_background": "light"
          }
        }
      ]
    },
    {
      "cell_type": "markdown",
      "source": [
        "We will flatten each matrix so each observation is represented by a vector. This allows for a vectorized implementation of the neural network.\n",
        "\n",
        "A 28 * 28 matrix is therefore transformed into a 784 vector."
      ],
      "metadata": {
        "id": "bu5HxONzBK4a"
      }
    },
    {
      "cell_type": "code",
      "source": [
        "train_x = train_x.reshape(train_x.shape[0], train_x.shape[1] ** 2);\n",
        "test_x = test_x.reshape(test_x.shape[0], test_x.shape[1] ** 2);"
      ],
      "metadata": {
        "id": "2Z4KOZ-_Qq1M"
      },
      "execution_count": 105,
      "outputs": []
    },
    {
      "cell_type": "markdown",
      "source": [
        "Each pixel is represented by a number in the range [0, 255] for its shade of grey.\n",
        "\n",
        "We will divide every value by the maximum value 255 as to get only values in the [0, 1] range."
      ],
      "metadata": {
        "id": "j2xXVtQ3C-kq"
      }
    },
    {
      "cell_type": "code",
      "source": [
        "train_x = train_x / max(map(max, train_x))\n",
        "test_x = test_x / max(map(max, test_x))"
      ],
      "metadata": {
        "id": "LceD9Nw8Qtho"
      },
      "execution_count": 106,
      "outputs": []
    },
    {
      "cell_type": "markdown",
      "source": [
        "We will perform onehot encoding on the output value as to obtain for each observation a vector of length 10, filled with 0 and a 1."
      ],
      "metadata": {
        "id": "PPCFGmpCEAsb"
      }
    },
    {
      "cell_type": "code",
      "source": [
        "def onehotencoding_y(y):\n",
        "  temp = np.zeros((y.shape[0], y.max() + 1))\n",
        "  temp[np.arange(y.shape[0]), y] = 1\n",
        "  y = temp\n",
        "  return y"
      ],
      "metadata": {
        "id": "BIe0FYeyHM12"
      },
      "execution_count": 107,
      "outputs": []
    },
    {
      "cell_type": "code",
      "source": [
        "train_y = onehotencoding_y(train_y)"
      ],
      "metadata": {
        "id": "NdVURYe4FtP1"
      },
      "execution_count": 108,
      "outputs": []
    },
    {
      "cell_type": "markdown",
      "source": [
        "## Multi-Layer Perceptron"
      ],
      "metadata": {
        "id": "rFHv9bX8JcVg"
      }
    },
    {
      "cell_type": "markdown",
      "source": [
        "We will use a neural network with one hidden layer containing 256 hidden units.\n",
        "\n",
        "We will not introduce bias units as those won't improve the performance of the model in this case.\n",
        "\n",
        "The activation function used will be the hyperbolic tangent."
      ],
      "metadata": {
        "id": "xkXQ8S1nJhgD"
      }
    },
    {
      "cell_type": "markdown",
      "source": [
        "We will randomly initialize weights for both layers with values following a univariate normal distribution (mean 0 and variance 1).\n",
        "\n",
        "Those weights will then be scaled down as to facilitate the training sequences."
      ],
      "metadata": {
        "id": "kcfUdceqK4sd"
      }
    },
    {
      "cell_type": "markdown",
      "source": [
        "This class will allow the user to assign the required values to the number of hidden units, the learning rate and the nunber of epochs to go through during the fitting phase.\n",
        "\n",
        "A \"fit\" function will adjust the weights of the neural network using forward and backward propagation, and the quadratic loss as cost function.\n",
        "\n",
        "A \"predict\" function will output predictions based on the learned weights and a given test set."
      ],
      "metadata": {
        "id": "C4b_mahBUrtx"
      }
    },
    {
      "cell_type": "code",
      "source": [
        "class MLP:\n",
        "  def __init__(self, hidden_units):\n",
        "    self.hidden_units = hidden_units\n",
        "    self.W1 = np.random.randn(train_x.shape[1], self.hidden_units) * 0.01\n",
        "    self.W2 = np.random.randn(self.hidden_units, 10) * 0.01\n",
        "    self.loss = list()\n",
        "  def fit(self, train_x, train_y, alpha, epochs):\n",
        "    for i in range(epochs):\n",
        "      Z1 = np.dot(train_x, self.W1)\n",
        "      A1 = np.tanh(Z1)\n",
        "      Z2 = np.dot(A1, self.W2)\n",
        "      A2 = (np.tanh(Z2) + 1) / 2\n",
        "      self.loss.append(0.5 * np.square(A2 - train_y).sum())\n",
        "      if i % 5 == 0:\n",
        "        print(\"Cost at iteration n°\", i, \": \", self.loss[i])\n",
        "      dZ2 = A2 - train_y\n",
        "      dW2 = (1 / self.hidden_units) * np.dot(A1.T, dZ2)\n",
        "      db2 = (1 / self.hidden_units) * np.sum(dZ2, axis = 1, keepdims = True)\n",
        "      dZ1 = np.multiply(np.dot(dZ2, self.W2.T), 1 - np.tanh(A1) ** 2)\n",
        "      dW1 = (1 / train_x.shape[1]) * np.dot(train_x.T, dZ1)\n",
        "      db1 = (1 / train_x.shape[1]) * np.sum(dZ1, axis = 1, keepdims = True)\n",
        "      self.W1 = self.W1 - alpha * dW1\n",
        "      self.W2 = self.W2 - alpha * dW2\n",
        "  def predict(self, test_x):\n",
        "    return np.argmax((np.tanh(np.dot(np.tanh(np.dot(test_x, self.W1)), self.W2)) + 1) / 2, axis = 1)"
      ],
      "metadata": {
        "id": "rbX_PycyL9tg"
      },
      "execution_count": 109,
      "outputs": []
    },
    {
      "cell_type": "markdown",
      "source": [
        "We create a new model with the required number of hidden units."
      ],
      "metadata": {
        "id": "vd2ViiTOWtgX"
      }
    },
    {
      "cell_type": "code",
      "source": [
        "mlp = MLP(256)"
      ],
      "metadata": {
        "id": "2fmaKTzcQUn1"
      },
      "execution_count": 110,
      "outputs": []
    },
    {
      "cell_type": "markdown",
      "source": [
        "We fit the model to the data with the required parameters while monitoring the cost."
      ],
      "metadata": {
        "id": "hKp-sHtqW324"
      }
    },
    {
      "cell_type": "code",
      "source": [
        "mlp.fit(train_x, train_y, 1e-3, 500)"
      ],
      "metadata": {
        "colab": {
          "base_uri": "https://localhost:8080/"
        },
        "id": "n0OX1oAWRwwv",
        "outputId": "0b2cf9a5-ed2b-4053-89e5-4cadb45f14d5"
      },
      "execution_count": 111,
      "outputs": [
        {
          "output_type": "stream",
          "name": "stdout",
          "text": [
            "Cost at iteration n° 0 :  74955.16166496216\n",
            "Cost at iteration n° 5 :  27545.21814755536\n",
            "Cost at iteration n° 10 :  26892.125434377387\n",
            "Cost at iteration n° 15 :  25943.663210786173\n",
            "Cost at iteration n° 20 :  24521.983265385716\n",
            "Cost at iteration n° 25 :  22640.79075342819\n",
            "Cost at iteration n° 30 :  20620.04890970418\n",
            "Cost at iteration n° 35 :  18773.338412676258\n",
            "Cost at iteration n° 40 :  17223.781894141328\n",
            "Cost at iteration n° 45 :  15955.777703776464\n",
            "Cost at iteration n° 50 :  14905.619132687432\n",
            "Cost at iteration n° 55 :  14016.641229394903\n",
            "Cost at iteration n° 60 :  13251.346084465886\n",
            "Cost at iteration n° 65 :  12586.275122108009\n",
            "Cost at iteration n° 70 :  12005.487836054386\n",
            "Cost at iteration n° 75 :  11496.48008028351\n",
            "Cost at iteration n° 80 :  11048.372068759096\n",
            "Cost at iteration n° 85 :  10651.452371940552\n",
            "Cost at iteration n° 90 :  10297.250913176791\n",
            "Cost at iteration n° 95 :  9978.65190921383\n",
            "Cost at iteration n° 100 :  9689.879052876804\n",
            "Cost at iteration n° 105 :  9426.360964727453\n",
            "Cost at iteration n° 110 :  9184.535170800242\n",
            "Cost at iteration n° 115 :  8961.640712586968\n",
            "Cost at iteration n° 120 :  8755.528437890564\n",
            "Cost at iteration n° 125 :  8564.50133575805\n",
            "Cost at iteration n° 130 :  8387.187516874592\n",
            "Cost at iteration n° 135 :  8222.443649465995\n",
            "Cost at iteration n° 140 :  8069.284651987068\n",
            "Cost at iteration n° 145 :  7926.834822853201\n",
            "Cost at iteration n° 150 :  7794.295648547692\n",
            "Cost at iteration n° 155 :  7670.925953051774\n",
            "Cost at iteration n° 160 :  7556.030673507991\n",
            "Cost at iteration n° 165 :  7448.955261728596\n",
            "Cost at iteration n° 170 :  7349.083430376487\n",
            "Cost at iteration n° 175 :  7255.836617876672\n",
            "Cost at iteration n° 180 :  7168.674094903611\n",
            "Cost at iteration n° 185 :  7087.0930618048005\n",
            "Cost at iteration n° 190 :  7010.628395443638\n",
            "Cost at iteration n° 195 :  6938.8519126737\n",
            "Cost at iteration n° 200 :  6871.371147512036\n",
            "Cost at iteration n° 205 :  6807.82771109703\n",
            "Cost at iteration n° 210 :  6747.895335755793\n",
            "Cost at iteration n° 215 :  6691.27771124714\n",
            "Cost at iteration n° 220 :  6637.706213097797\n",
            "Cost at iteration n° 225 :  6586.937607353531\n",
            "Cost at iteration n° 230 :  6538.751797922112\n",
            "Cost at iteration n° 235 :  6492.949664964494\n",
            "Cost at iteration n° 240 :  6449.351027092191\n",
            "Cost at iteration n° 245 :  6407.792747125971\n",
            "Cost at iteration n° 250 :  6368.1269909637285\n",
            "Cost at iteration n° 255 :  6330.2196414725595\n",
            "Cost at iteration n° 260 :  6293.948863890402\n",
            "Cost at iteration n° 265 :  6259.203815581576\n",
            "Cost at iteration n° 270 :  6225.883490742212\n",
            "Cost at iteration n° 275 :  6193.895689447898\n",
            "Cost at iteration n° 280 :  6163.156099988357\n",
            "Cost at iteration n° 285 :  6133.58748351228\n",
            "Cost at iteration n° 290 :  6105.11895043271\n",
            "Cost at iteration n° 295 :  6077.6853186863855\n",
            "Cost at iteration n° 300 :  6051.2265447030395\n",
            "Cost at iteration n° 305 :  6025.687218753799\n",
            "Cost at iteration n° 310 :  6001.016117164862\n",
            "Cost at iteration n° 315 :  5977.165804672859\n",
            "Cost at iteration n° 320 :  5954.092280942193\n",
            "Cost at iteration n° 325 :  5931.7546659520585\n",
            "Cost at iteration n° 330 :  5910.1149195868165\n",
            "Cost at iteration n° 335 :  5889.137591326811\n",
            "Cost at iteration n° 340 :  5868.789596440464\n",
            "Cost at iteration n° 345 :  5849.040015524464\n",
            "Cost at iteration n° 350 :  5829.859914633027\n",
            "Cost at iteration n° 355 :  5811.222183583129\n",
            "Cost at iteration n° 360 :  5793.101390325775\n",
            "Cost at iteration n° 365 :  5775.473649538104\n",
            "Cost at iteration n° 370 :  5758.316503822131\n",
            "Cost at iteration n° 375 :  5741.608816097094\n",
            "Cost at iteration n° 380 :  5725.330671947406\n",
            "Cost at iteration n° 385 :  5709.463290840501\n",
            "Cost at iteration n° 390 :  5693.988945261443\n",
            "Cost at iteration n° 395 :  5678.890886926239\n",
            "Cost at iteration n° 400 :  5664.153279336293\n",
            "Cost at iteration n° 405 :  5649.76113602361\n",
            "Cost at iteration n° 410 :  5635.700263912666\n",
            "Cost at iteration n° 415 :  5621.957211291089\n",
            "Cost at iteration n° 420 :  5608.519219939456\n",
            "Cost at iteration n° 425 :  5595.374181021087\n",
            "Cost at iteration n° 430 :  5582.510594377189\n",
            "Cost at iteration n° 435 :  5569.917530911553\n",
            "Cost at iteration n° 440 :  5557.584597783167\n",
            "Cost at iteration n° 445 :  5545.50190615519\n",
            "Cost at iteration n° 450 :  5533.660041275002\n",
            "Cost at iteration n° 455 :  5522.050034683552\n",
            "Cost at iteration n° 460 :  5510.66333837261\n",
            "Cost at iteration n° 465 :  5499.491800726807\n",
            "Cost at iteration n° 470 :  5488.527644103528\n",
            "Cost at iteration n° 475 :  5477.763443917852\n",
            "Cost at iteration n° 480 :  5467.192109112612\n",
            "Cost at iteration n° 485 :  5456.806863904864\n",
            "Cost at iteration n° 490 :  5446.6012307101355\n",
            "Cost at iteration n° 495 :  5436.569014154878\n"
          ]
        }
      ]
    },
    {
      "cell_type": "markdown",
      "source": [
        "We can plot the curve of the loss and see that the model has appropriately learned."
      ],
      "metadata": {
        "id": "mdxAf1RBW8Uw"
      }
    },
    {
      "cell_type": "code",
      "source": [
        "plt.plot(mlp.loss);"
      ],
      "metadata": {
        "colab": {
          "base_uri": "https://localhost:8080/",
          "height": 265
        },
        "id": "87I8ckB0TDch",
        "outputId": "1d618628-d3b0-4d33-a9ab-5dc651cb67b8"
      },
      "execution_count": 112,
      "outputs": [
        {
          "output_type": "display_data",
          "data": {
            "image/png": "[encoded data removed]",
            "text/plain": [
              "<Figure size 432x288 with 1 Axes>"
            ]
          },
          "metadata": {
            "needs_background": "light"
          }
        }
      ]
    },
    {
      "cell_type": "markdown",
      "source": [
        "We can now make predictions using the learned weights on the test set..."
      ],
      "metadata": {
        "id": "zQmdYcTdYweB"
      }
    },
    {
      "cell_type": "code",
      "source": [
        "pred = mlp.predict(test_x)"
      ],
      "metadata": {
        "id": "p-AN9pLyYmqk"
      },
      "execution_count": 113,
      "outputs": []
    },
    {
      "cell_type": "markdown",
      "source": [
        "...and evaluate the performance of those predictions."
      ],
      "metadata": {
        "id": "1Unlkd96ZSFX"
      }
    },
    {
      "cell_type": "code",
      "source": [
        "print(\"Accuracy :\", (pred == test_y).sum() / 100, \"%\")"
      ],
      "metadata": {
        "colab": {
          "base_uri": "https://localhost:8080/"
        },
        "id": "v7YYJZuWZInF",
        "outputId": "b85f919b-836d-4a7f-9598-fb8bbdcd9c2f"
      },
      "execution_count": 114,
      "outputs": [
        {
          "output_type": "stream",
          "name": "stdout",
          "text": [
            "Accuracy : 91.14 %\n"
          ]
        }
      ]
    },
    {
      "cell_type": "markdown",
      "source": [
        "## Conclusion"
      ],
      "metadata": {
        "id": "OxVBnxbSabGP"
      }
    },
    {
      "cell_type": "markdown",
      "source": [
        "The trained model performs well on unseen data.\n",
        "\n",
        "The model kept on learning even after 500 epochs. I decided to stop it as this was enough to showcase its efficiency."
      ],
      "metadata": {
        "id": "WsU44h-KadO_"
      }
    }
  ]
}